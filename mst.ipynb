{
 "cells": [
  {
   "cell_type": "markdown",
   "id": "7cb17c22-bc05-4d49-87f3-392e5314eb87",
   "metadata": {},
   "source": [
    "<div class=\"alert alert-block alert-info\">\n",
    "    <b><font size = 4>NEUR30006 MST 2024</b></font>\n",
    "\n",
    "<p>- based largely on code from Tariq Rashid (makeyourownNeuralNetwork)</p>\n",
    "\n",
    "<p>This code, when completed, will investigate a hypothesis about the basis for the standard ANN classification of mnist data. The starting point is the recognition that the form of mnist digits can be considered to fall into 3 classes: digits that are made of straight lines, digits that are made from curved lines, and those that are a combination of straight lines and curves. It is possible that errors made by the standard ANN in classifying the 10 digits are related to the three graphical types</p>\n",
    "\n",
    "<p><font color = \"red\">The hypothesis is that there will be significant differences in the accuracy of classification between the three graphical types.</font> (Incidentally, this is a “two tailed’ test in the sense that we don’t predict which classes will be easier or harder to classify.)</p>\n",
    "\n",
    "Although it would be possible just to look at the three different \"graphical\" catagories when we run the standard network, it might be a fairer test to train and test the NW just to distinguish the three graphical types.</p>\n",
    "\n",
    "\n",
    "<p>So, your task (the MST) is to complete the code in this notebook to test this hypothesis. It involves: modifying the ANN so that it has 3 classes to categorize (i.e there will be 3 output nodes); writing a small bit of code that assigns each digit into the correct one of the three graphical classes; evaluating performance broadly (i.e. % correct) and in detail (confusion matrix). </p>\n",
    "\n",
    "<p>When you have the code working you will be able to answer the questions in the canvas quiz (called MST), on the quizzes page on the canvas site. The quiz is to be completed by, or on, the 12<sup>th</sup> of September.</p>"
   ]
  },
  {
   "cell_type": "code",
   "execution_count": 61,
   "id": "fbf76207-eb5b-49ce-89b0-98666615563f",
   "metadata": {},
   "outputs": [],
   "source": [
    "import numpy\n",
    "import scipy.special\n",
    "import csv\n",
    "import time\n",
    "import matplotlib.pyplot\n",
    "\n",
    "%matplotlib inline"
   ]
  },
  {
   "cell_type": "code",
   "execution_count": 63,
   "id": "478048bb-8c1c-42be-8a5a-f3bdb55c35ee",
   "metadata": {},
   "outputs": [],
   "source": [
    "# neural network class definition\n",
    "class neuralNetwork:\n",
    "    \n",
    "    def __init__(self, inputnodes, hiddennodes, outputnodes, learningrate):\n",
    "        self.inodes = inputnodes\n",
    "        self.hnodes = hiddennodes\n",
    "        self.onodes = outputnodes\n",
    "        \n",
    "        numpy.random.seed(5)    # do not change this seed value!\n",
    "\n",
    "        self.wih = numpy.random.normal(0.0, pow(self.inodes, -0.5), (self.hnodes, self.inodes))\n",
    "        self.who = numpy.random.normal(0.0, pow(self.hnodes, -0.5), (self.onodes, self.hnodes))\n",
    "        self.lr = learningrate\n",
    "        \n",
    "        self.activation_function = lambda x: scipy.special.expit(x)\n",
    "        \n",
    "\n",
    "    def train(self, inputs_list, targets_list):\n",
    "        inputs = numpy.array(inputs_list, ndmin=2).T\n",
    "        targets = numpy.array(targets_list, ndmin=2).T\n",
    "\n",
    "        hidden_inputs = numpy.dot(self.wih, inputs)\n",
    "        hidden_outputs = self.activation_function(hidden_inputs)\n",
    "        \n",
    "        final_inputs = numpy.dot(self.who, hidden_outputs)\n",
    "        final_outputs = self.activation_function(final_inputs)\n",
    "        \n",
    "        output_errors = targets - final_outputs\n",
    "        hidden_errors = numpy.dot(self.who.T, output_errors) \n",
    "        self.who += self.lr * numpy.dot((output_errors * final_outputs * (1.0 - final_outputs)), numpy.transpose(hidden_outputs))\n",
    "        self.wih += self.lr * numpy.dot((hidden_errors * hidden_outputs * (1.0 - hidden_outputs)), numpy.transpose(inputs))\n",
    "\n",
    "\n",
    "    def query(self, inputs_list):\n",
    "        inputs = numpy.array(inputs_list, ndmin=2).T\n",
    "        hidden_inputs = numpy.dot(self.wih, inputs)\n",
    "        hidden_outputs = self.activation_function(hidden_inputs)\n",
    "        final_inputs = numpy.dot(self.who, hidden_outputs)\n",
    "        final_outputs = self.activation_function(final_inputs)\n",
    "        \n",
    "        return final_outputs"
   ]
  },
  {
   "cell_type": "markdown",
   "id": "5f004503-d6bd-4b76-adcf-2a7db63d2698",
   "metadata": {},
   "source": [
    "<div class=\"alert alert-block alert-info\">\n",
    "    \n",
    "you need to change the model to have 10 hidden nodes and 3 output nodes, and a learning rate of 0.05\n"
   ]
  },
  {
   "cell_type": "code",
   "execution_count": 65,
   "id": "ab3d42f9-8992-42af-bb22-33187bcd0057",
   "metadata": {},
   "outputs": [
    {
     "name": "stdout",
     "output_type": "stream",
     "text": [
      "\n",
      "\n",
      "Wait!\n",
      "There seems to be an error, check that you have set the output nodes, hidden nodes and learning rate to the required values\n",
      "\n",
      "\n",
      "\n"
     ]
    }
   ],
   "source": [
    "# number of nodes and learning rate\n",
    "\n",
    "# you need to change the model to have 10 hidden nodes and 3 output nodes, and a learning rate of 0.05\n",
    "\n",
    "input_nodes = 784\n",
    "hidden_nodes = 200\n",
    "output_nodes = 10\n",
    "\n",
    "learning_rate = 0.1\n",
    "\n",
    "#check before you go on, the value below should be 13.05\n",
    "\n",
    "check = output_nodes + learning_rate + hidden_nodes\n",
    "\n",
    "if (check != 13.05):\n",
    "    print(\"\\n\\nWait!\")\n",
    "    print(\"There seems to be an error, check that you have set the output nodes, hidden nodes and learning rate to the required values\")\n",
    "    print(\"\\n\\n\")\n",
    "else:\n",
    "    print(\"good to go\")"
   ]
  },
  {
   "cell_type": "code",
   "execution_count": 67,
   "id": "79412e57-1529-4363-af05-0f38df126765",
   "metadata": {},
   "outputs": [],
   "source": [
    "# create instance of neural network\n",
    "n = neuralNetwork(input_nodes,hidden_nodes,output_nodes, learning_rate)"
   ]
  },
  {
   "cell_type": "markdown",
   "id": "10bd95b7-65c7-4fb0-8c3f-abaa64a0fcfe",
   "metadata": {},
   "source": [
    "<div class=\"alert alert-block alert-info\">\n",
    "<p>The model parameters are going to change - you are classifying the digits into 3, not 10, catagories.<br>\n",
    "Also, in the cell below, change the hyperpartameters for the learning rate to be 0.05 and the number of hidden nodes to 10. </p>\n",
    "\n",
    "\n",
    "instruction for the quiz:<ul>\n",
    "<li>answer questions 1 to 3 about the new configuration of the model. \n",
    "[<b>3 marks</b>]</li>\n"
   ]
  },
  {
   "cell_type": "code",
   "execution_count": 70,
   "id": "5bd2ce44-6f0a-4862-a37c-b5970a201b20",
   "metadata": {},
   "outputs": [],
   "source": [
    "# load the mnist training and test data CSV files into lists\n",
    "# this will let you know if your csv files are in the right directory\n",
    "\n",
    "training_data_file = open(\"mnist_train.csv\", 'r') #!!!\n",
    "training_data_list = training_data_file.readlines()\n",
    "training_data_file.close()\n",
    "\n",
    "test_data_file = open(\"mnist_test.csv\", 'r') #!!!\n",
    "test_data_list = test_data_file.readlines()\n",
    "test_data_file.close()"
   ]
  },
  {
   "cell_type": "markdown",
   "id": "913d4d1f-5765-4078-942e-f46f2e31897f",
   "metadata": {},
   "source": [
    "<div class=\"alert alert-block alert-info\">\n",
    "    In the cell below, you need to add code to change the classification task to having 3 catagories (not the 10 normally used to classify the digit images).<p>\n",
    "digits 1, 4 and 7 are in the catagory of digits made with straight lines<br>\n",
    "digits 2, 5 and 9 are in the catagory of digits made with a mixture of curved and straight lines<br>\n",
    "digits 0, 3, 6 and 8 are in the catagory of digits made with curved lines<br>\n",
    "\n",
    "<div class=\"alert alert-block alert-info\">\n",
    "    make the catagories as follows:\n",
    "    <ul>\n",
    "    <li>digits 1, 4 and 7 are in catagory 0<br>\n",
    "    <li>digits 2, 5 and 9 are in catagory 1<br>\n",
    "    <li>digits 0, 3, 6 and 8 are catagory 2<br>\n",
    "    </ul>\n",
    "    <p>hint: you can use <font color = \"green\"><b> if, elif, else</font</b> </font>to classify the \"correct label\" into the 3 catagories.</p>\n",
    "    <p>Making the code for classifying into the 3 classess is worth <b>5 marks</b> It is the focus of question 4 in the quiz, see below</p>\n",
    "</div>\n"
   ]
  },
  {
   "cell_type": "code",
   "execution_count": 73,
   "id": "a652244a-d3ca-4763-a762-2ba9220575d1",
   "metadata": {},
   "outputs": [],
   "source": [
    "# train the neural network\n",
    "\n",
    "for record in training_data_list:\n",
    "    all_values = record.split(',')\n",
    "    inputs = (numpy.asfarray(all_values[1:]) / 255.0 * 0.99) + 0.01\n",
    "    targets = numpy.zeros(output_nodes) + 0.01\n",
    "    # your code to re-classify the digit catagories goes between here...\n",
    "\n",
    "    # ... and here\n",
    "    n.train(inputs, targets)\n",
    "pass"
   ]
  },
  {
   "cell_type": "markdown",
   "id": "b0f0dea2-63fc-430c-b17e-40d54c16633c",
   "metadata": {},
   "source": [
    "<div class=\"alert alert-block alert-info\">\n",
    "\n",
    "<p><u>In the cell below</u> you need to modify the data you read in from each record so that the correct_lable is converted to the lable for one of the three new classess we have created. the same code used above to get the target values in the cell above is used in the test process (the cell below) to get the correct lable - add this code in the cell below.</p>\n",
    "\n",
    "Now find the overall performance of classifying the digits as members of three catagories. How long did it take?<br>\n",
    "\n"
   ]
  },
  {
   "cell_type": "code",
   "execution_count": 75,
   "id": "6ae81d85-188e-43e6-bfc2-ff95b85ea26e",
   "metadata": {},
   "outputs": [
    {
     "ename": "NameError",
     "evalue": "name 'correct_label' is not defined",
     "output_type": "error",
     "traceback": [
      "\u001b[0;31m---------------------------------------------------------------------------\u001b[0m",
      "\u001b[0;31mNameError\u001b[0m                                 Traceback (most recent call last)",
      "Cell \u001b[0;32mIn[75], line 10\u001b[0m\n\u001b[1;32m      6\u001b[0m     all_values \u001b[38;5;241m=\u001b[39m record\u001b[38;5;241m.\u001b[39msplit(\u001b[38;5;124m'\u001b[39m\u001b[38;5;124m,\u001b[39m\u001b[38;5;124m'\u001b[39m)\n\u001b[1;32m      7\u001b[0m \u001b[38;5;66;03m# as in the cell above, your code goes between here...\u001b[39;00m\n\u001b[1;32m      8\u001b[0m     \n\u001b[1;32m      9\u001b[0m \u001b[38;5;66;03m# ...and here\u001b[39;00m\n\u001b[0;32m---> 10\u001b[0m     targets[correct_label] \u001b[38;5;241m=\u001b[39m \u001b[38;5;241m0.99\u001b[39m\n\u001b[1;32m     12\u001b[0m     inputs \u001b[38;5;241m=\u001b[39m (numpy\u001b[38;5;241m.\u001b[39masfarray(all_values[\u001b[38;5;241m1\u001b[39m:]) \u001b[38;5;241m/\u001b[39m \u001b[38;5;241m255.0\u001b[39m \u001b[38;5;241m*\u001b[39m \u001b[38;5;241m0.99\u001b[39m) \u001b[38;5;241m+\u001b[39m \u001b[38;5;241m0.01\u001b[39m\n\u001b[1;32m     13\u001b[0m     outputs \u001b[38;5;241m=\u001b[39m n\u001b[38;5;241m.\u001b[39mquery(inputs)\n",
      "\u001b[0;31mNameError\u001b[0m: name 'correct_label' is not defined"
     ]
    }
   ],
   "source": [
    "# test the neural network\n",
    "\n",
    "scorecard = []\n",
    "\n",
    "for record in test_data_list:\n",
    "    all_values = record.split(',')\n",
    "# as in the cell above, your code goes between here...\n",
    "    \n",
    "# ...and here\n",
    "    targets[correct_label] = 0.99\n",
    "    \n",
    "    inputs = (numpy.asfarray(all_values[1:]) / 255.0 * 0.99) + 0.01\n",
    "    outputs = n.query(inputs)\n",
    "    label = numpy.argmax(outputs)\n",
    "    if (label == correct_label):\n",
    "        scorecard.append(1)\n",
    "    else:\n",
    "        scorecard.append(0)\n",
    "    pass  \n",
    "pass\n",
    "end = time.time()\n",
    "\n",
    "scorecard_array = numpy.asarray(scorecard)\n",
    "print (\"performance = \", scorecard_array.sum() / scorecard_array.size)\n",
    "print(\"this test took\",end - start,\"seconds\")"
   ]
  },
  {
   "cell_type": "markdown",
   "id": "8edc5c4d-710b-49a4-930a-7b9a184f5590",
   "metadata": {},
   "source": [
    "<div class=\"alert alert-block alert-info\">\n",
    "Instruction for the quiz:<ul>\n",
    "<li>in question 4 select the performance value that corresponds to the one you have just printed out. \n",
    "[<b>5 marks</b>]</li>\n",
    "<li>Answer Question 5 about where the time code goes [<b>2 mark</b>]</li>\n",
    "</ul>"
   ]
  },
  {
   "cell_type": "markdown",
   "id": "e23722a1-327d-4421-b09e-1cd5cd967e4b",
   "metadata": {},
   "source": [
    "<div class=\"alert alert-block alert-info\">\n",
    "<p>Test again and generate a confusion matrix.</p>\n",
    "\n",
    "<p><u>In the cell below,</u> add the code needed to generate a confusion matrix that assigns the test outcome for each digitimage to one of the grid cboxes in the 3 by 3 confusion matrix.</p>\n",
    "<p>\n",
    "At the end of the loop through all records, you have a confusion matrix, you then need to divide each element by the appropriate count variable so that the matrix shows the proportions in each graid box in relation to the counts. </p>"
   ]
  },
  {
   "cell_type": "code",
   "execution_count": null,
   "id": "87d9700c-9caf-4852-96fa-912a14677aa1",
   "metadata": {},
   "outputs": [],
   "source": [
    "# test the neural network again - \n",
    "\n",
    "sum_outputs = numpy.zeros((3,3))\n",
    "\n",
    "start = time.time()\n",
    "\n",
    "for record in test_data_list:\n",
    "    all_values = record.split(',')\n",
    "# your code goes between here:\n",
    "\n",
    "# and here\n",
    "    inputs = (numpy.asfarray(all_values[1:]) / 255.0 * 0.99) + 0.01\n",
    "    outputs = n.query(inputs)\n",
    "    label = numpy.argmax(outputs)\n",
    "    #you need a line of code here to populate the sum_outputs array - use an index[] and increment +=1\n",
    "    #hint - we did this in the week 7 tutorial\n",
    "    pass\n",
    "\n",
    "end = time.time()\n",
    " \n",
    "#your code to compress the matrix values goes here\n",
    "matplotlib.pyplot.imshow(sum_outputs, cmap='Blues')\n",
    "matplotlib.pyplot.show()\n",
    "print(\"this test took\",end - start,\"seconds\")\n",
    "print(sum_outputs)"
   ]
  },
  {
   "cell_type": "markdown",
   "id": "8f838d50-0f08-42c6-8abb-21ccdf8977d2",
   "metadata": {},
   "source": [
    "<div class=\"alert alert-block alert-info\">\n",
    "Instruction for the quiz:<ul>\n",
    "<li>in question 6 select the matrix that corresponds to the one you have just printed out above which gives matrix positions by the number of each class that was tested. \n",
    "[<b>4 marks</b>]</li>\n",
    "</ul>"
   ]
  },
  {
   "cell_type": "markdown",
   "id": "91c1e444-bb13-4d3c-a662-3dd75f4519ac",
   "metadata": {},
   "source": [
    "<div class=\"alert alert-block alert-info\">\n",
    "\n",
    "<p>The cell aboove tells you how each of the images was classified - but we need to <b>normalise</b> those numbers in each \"grid box\" of the confusion matrix by how many of each class were presented.</p>\n",
    "<p><u>In the cell below</u> I have defined three counting variables, one for each class. You need to increment these counters at the apporpriate point in the program to count how many images of each class were presented</p>\n",
    "<p>\n",
    "At the end of the loop through all records, you have a confusion matrix, you then need to divide each element by the appropriate count variable so that the matrix shows the proportions in each graid box in relation to the counts. You can divide the number in each of the \n"
   ]
  },
  {
   "cell_type": "code",
   "execution_count": null,
   "id": "ae6a77be-66fa-4c5a-b9b1-e027b7ce5147",
   "metadata": {},
   "outputs": [],
   "source": [
    "# now normalise the responses in reference to how many of each catagory was in the test data\n",
    "\n",
    "sum_outputs = numpy.zeros((3,3))\n",
    "\n",
    "# set some variables to count the number of each class.\n",
    "\n",
    "label_zero = 0\n",
    "label_one = 0\n",
    "label_two = 0\n",
    "\n",
    "for record in test_data_list:\n",
    "    all_values = record.split(',')\n",
    "# your code goes between here:\n",
    "\n",
    "# and here\n",
    "    inputs = (numpy.asfarray(all_values[1:]) / 255.0 * 0.99) + 0.01\n",
    "    outputs = n.query(inputs)\n",
    "    label = numpy.argmax(outputs)\n",
    "    #you need a line of code here to populate the sum_outputs array - use an index[] and increment +=1\n",
    "    #hint - we did this in the week 7 tutorial\n",
    "    pass\n",
    "\n",
    "# you need some code here to make an array that you can divide the confusion matrix by to get real performance\n",
    "# once yu make that array - call it div_array - from the counts values, you can make the normalised confusion matrx.\n",
    "\n",
    "norm_outputs = sum_outputs / div_array\n",
    " \n",
    "matplotlib.pyplot.imshow(norm_outputs, cmap='Blues')\n",
    "matplotlib.pyplot.show()\n",
    "\n",
    "#print(sum_outputs)\n",
    "#print(div_array)\n",
    "print(norm_outputs)\n"
   ]
  },
  {
   "cell_type": "markdown",
   "id": "016cfa8a-6697-4808-a615-efcf695d14e6",
   "metadata": {},
   "source": [
    "<div class=\"alert alert-block alert-info\">\n",
    "    \n",
    "Instruction for the quiz:<ul>\n",
    "<li>in question 7 select the matrix that corresponds to the one (norm_outputs) you have just printed out above. \n",
    "[<b>4 marks</b>]</li>\n",
    "</ul>"
   ]
  },
  {
   "cell_type": "markdown",
   "id": "338c4655-77d7-4d2a-b3ac-3e59c093e4e4",
   "metadata": {},
   "source": [
    "<div class=\"alert alert-block alert-info\">\n",
    "Now squish the outputs."
   ]
  },
  {
   "cell_type": "code",
   "execution_count": null,
   "id": "8798c66e-6a7a-413d-ad8e-d037e7eb1a38",
   "metadata": {},
   "outputs": [],
   "source": [
    "#squished_outputs by taking its square root\n",
    "\n",
    "#your code to compress the matrix values goes here\n",
    "\n",
    "matplotlib.pyplot.imshow(squished_outputs, cmap='Blues')\n",
    "matplotlib.pyplot.show()\n",
    "print(squished_outputs)"
   ]
  },
  {
   "cell_type": "markdown",
   "id": "247d5c0b-6d9f-49af-8fc4-71ddcac43a0b",
   "metadata": {},
   "source": [
    "<div class=\"alert alert-block alert-info\">\n",
    "Instruction for the quiz:<ul>\n",
    "<li>in question 8 select the matrix that corresponds to the one you have just printed out above (squished_outputs) [<b>2 marks</b>].</li>\n",
    "</ul>"
   ]
  },
  {
   "cell_type": "code",
   "execution_count": null,
   "id": "bdd9375b-b1b6-4cc8-9525-2a073fdd8c3e",
   "metadata": {},
   "outputs": [],
   "source": []
  }
 ],
 "metadata": {
  "kernelspec": {
   "display_name": "Python 3 (ipykernel)",
   "language": "python",
   "name": "python3"
  },
  "language_info": {
   "codemirror_mode": {
    "name": "ipython",
    "version": 3
   },
   "file_extension": ".py",
   "mimetype": "text/x-python",
   "name": "python",
   "nbconvert_exporter": "python",
   "pygments_lexer": "ipython3",
   "version": "3.11.7"
  }
 },
 "nbformat": 4,
 "nbformat_minor": 5
}
